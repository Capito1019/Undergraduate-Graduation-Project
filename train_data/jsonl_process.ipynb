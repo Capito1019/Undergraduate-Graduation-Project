{
 "cells": [
  {
   "cell_type": "code",
   "execution_count": 13,
   "metadata": {},
   "outputs": [
    {
     "name": "stdout",
     "output_type": "stream",
     "text": [
      "处理前的行数: 353036\n",
      "处理后的行数: 138499\n",
      "数据处理完成，已保存为 after_c_138499.jsonl\n"
     ]
    }
   ],
   "source": [
    "import json\n",
    "\n",
    "def process_jsonl(input_path):\n",
    "    # 读取 JSONL 文件\n",
    "    with open(input_path, 'r', encoding='utf-8') as f:\n",
    "        lines = f.readlines()\n",
    "    \n",
    "    # 解析每一行并转换为字典\n",
    "    data = [json.loads(line.strip()) for line in lines]\n",
    "\n",
    "    # 用于存储处理后的数据\n",
    "    output_data = []\n",
    "    i = 0  # 当前遍历索引\n",
    "\n",
    "    while i < len(data):\n",
    "        # 记录当前的 buggy_code\n",
    "        buggy_code = data[i]['buggy_code']\n",
    "        start_index = i  # 记录该子序列的起始索引\n",
    "\n",
    "        # 继续前进，直到遇到不同的 buggy_code\n",
    "        while i + 1 < len(data) and data[i + 1]['buggy_code'] == buggy_code:\n",
    "            i += 1  # 跳过相同的 buggy_code\n",
    "        \n",
    "        # 只在当前 `buggy_code` **没有连续重复** 时才保留\n",
    "        if start_index == i:\n",
    "            output_data.append(data[start_index])  # 只有不属于删除区块的行才加入\n",
    "\n",
    "        # 移动到下一个不同的 buggy_code\n",
    "        i += 1\n",
    "\n",
    "    # 输出处理前后的行数\n",
    "    original_line_count = len(data)\n",
    "    final_line_count = len(output_data)\n",
    "    output_path = f\"after_c_{final_line_count}.jsonl\"\n",
    "\n",
    "    # 将处理后的数据写入新的 JSONL 文件\n",
    "    with open(output_path, 'w', encoding='utf-8') as f:\n",
    "        for entry in output_data:\n",
    "            f.write(json.dumps(entry, ensure_ascii=False) + \"\\n\")\n",
    "    \n",
    "    print(f\"处理前的行数: {original_line_count}\")\n",
    "    print(f\"处理后的行数: {final_line_count}\")\n",
    "    print(f\"数据处理完成，已保存为 {output_path}\")\n",
    "\n",
    "# 调用处理函数，传入输入文件路径和输出文件路径\n",
    "#input_path = \"python_162922.jsonl\"  # 输入的 JSONL 文件路径\n",
    "input_path = \"c_353036.jsonl\"\n",
    "#input_path = \"javascript_264292.jsonl\"\n",
    "# input_path = \"java_607158.jsonl\"\n",
    "\n",
    "process_jsonl(input_path)\n"
   ]
  },
  {
   "cell_type": "code",
   "execution_count": null,
   "metadata": {},
   "outputs": [],
   "source": []
  }
 ],
 "metadata": {
  "kernelspec": {
   "display_name": "base",
   "language": "python",
   "name": "python3"
  },
  "language_info": {
   "codemirror_mode": {
    "name": "ipython",
    "version": 3
   },
   "file_extension": ".py",
   "mimetype": "text/x-python",
   "name": "python",
   "nbconvert_exporter": "python",
   "pygments_lexer": "ipython3",
   "version": "3.11.4"
  }
 },
 "nbformat": 4,
 "nbformat_minor": 2
}
